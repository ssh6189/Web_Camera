{
 "cells": [
  {
   "cell_type": "code",
   "execution_count": 1,
   "metadata": {},
   "outputs": [],
   "source": [
    "import cv2\n",
    "import numpy as np\n",
    "\n",
    "#카메라 입력받기\n",
    "cap = cv2.VideoCapture(0)\n",
    "\n",
    "#동영상 출력 전용객체 생성하기\n",
    "fmt = cv2.VideoWriter_fourcc('m', 'p', '4', 'v')\n",
    "fps = 20.0\n",
    "size= (640, 360)\n",
    "writer = cv2.VideoWriter('test.m4v', fmt, fps, size)\n",
    "\n",
    "while True:\n",
    "    _, frame = cap.read() #동영상 입력\n",
    "    \n",
    "    #이미지 축소하기\n",
    "    frame = cv2.resize(frame, size)\n",
    "    \n",
    "    #이미지 출력하기\n",
    "    writer.write(frame)\n",
    "    \n",
    "    #화면에도 출력하기\n",
    "    cv2.imshow('frame', frame)\n",
    "    \n",
    "    #Eneter 키가 입력되면 반복 종료하기\n",
    "    \n",
    "    if (cv2.waitKey(1) == 13):\n",
    "        break\n",
    "        \n",
    "writer.release()\n",
    "\n",
    "cap.release()\n",
    "\n",
    "#윈도우 제거하기\n",
    "cv2.destroyAllWindows()"
   ]
  }
 ],
 "metadata": {
  "kernelspec": {
   "display_name": "Python 3",
   "language": "python",
   "name": "python3"
  },
  "language_info": {
   "codemirror_mode": {
    "name": "ipython",
    "version": 3
   },
   "file_extension": ".py",
   "mimetype": "text/x-python",
   "name": "python",
   "nbconvert_exporter": "python",
   "pygments_lexer": "ipython3",
   "version": "3.7.7"
  }
 },
 "nbformat": 4,
 "nbformat_minor": 4
}
