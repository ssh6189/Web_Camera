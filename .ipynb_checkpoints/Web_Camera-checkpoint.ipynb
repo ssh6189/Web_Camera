{
 "cells": [
  {
   "cell_type": "code",
   "execution_count": 1,
   "metadata": {},
   "outputs": [],
   "source": [
    "import cv2\n",
    "import numpy as np\n",
    "\n",
    "#웹 카메라로부터 입력받기\n",
    "cap = cv2.VideoCapture(0)\n",
    "\n",
    "while True:\n",
    "    #카메라로부터 아마자 읽어들이기\n",
    "    _, frame = cap.read()\n",
    "    \n",
    "    #이미지를 축소해서 출력하기\n",
    "    frame = cv2.resize(frame, (500, 300))\n",
    "    \n",
    "    #윈도우에 이미지 출력하기\n",
    "    cv2.imshow('OpenCV Web Camera', frame)\n",
    "    \n",
    "    #ESC 또는 Enter 키가 입력되면, 반복 종료하기\n",
    "    k = cv2.waitKey(1) #1msec 대기\n",
    "    \n",
    "    if(k == 27 or k == 13):\n",
    "        break\n",
    "\n",
    "#카메라 해제하기\n",
    "cap.release()\n",
    "#윈도우 제거하기\n",
    "cv2.destroyAllWindows()"
   ]
  }
 ],
 "metadata": {
  "kernelspec": {
   "display_name": "Python 3",
   "language": "python",
   "name": "python3"
  },
  "language_info": {
   "codemirror_mode": {
    "name": "ipython",
    "version": 3
   },
   "file_extension": ".py",
   "mimetype": "text/x-python",
   "name": "python",
   "nbconvert_exporter": "python",
   "pygments_lexer": "ipython3",
   "version": "3.7.7"
  }
 },
 "nbformat": 4,
 "nbformat_minor": 4
}
