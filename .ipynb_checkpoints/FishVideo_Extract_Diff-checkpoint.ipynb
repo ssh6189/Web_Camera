{
 "cells": [
  {
   "cell_type": "code",
   "execution_count": 1,
   "metadata": {},
   "outputs": [
    {
     "name": "stdout",
     "output_type": "stream",
     "text": [
      "ok\n"
     ]
    }
   ],
   "source": [
    "import cv2, os\n",
    "\n",
    "#이전 프레임을 저장할 변수\n",
    "img_last = None\n",
    "\n",
    "#이미지 장수\n",
    "no = 0\n",
    "\n",
    "#저장할 디렉터리\n",
    "save_dir = \"./exfish\"\n",
    "\n",
    "#디렉터리 생성\n",
    "os.mkdir(save_dir)\n",
    "\n",
    "#동영상 파일로부터 입력받기\n",
    "cap = cv2.VideoCapture(\"fish.mp4\")\n",
    "\n",
    "while True:\n",
    "    #이미지 추출하기\n",
    "    is_ok, frame = cap.read()\n",
    "    if not is_ok:\n",
    "        break\n",
    "        \n",
    "    frame = cv2.resize(frame, (640, 360))\n",
    "    \n",
    "    #흑백이미지로 변한하기\n",
    "    gray = cv2.cvtColor(frame, cv2.COLOR_BGR2GRAY)\n",
    "    gray = cv2.GaussianBlur(gray, (15, 15), 0)\n",
    "    img_b = cv2.threshold(gray, 127, 255, cv2.THRESH_BINARY)[1]\n",
    "    \n",
    "    #차이 확인하기\n",
    "    if not img_last is None:\n",
    "        frame_diff = cv2.absdiff(img_last, img_b)\n",
    "        cnts = cv2.findContours(frame_diff, cv2.RETR_EXTERNAL, cv2.CHAIN_APPROX_SIMPLE)[1]\n",
    "        \n",
    "        #차이가 있는 부분을 파일로 출력하기\n",
    "        for pt in cnts:\n",
    "            x, y, w, h = cv2.boundingRect(pt)\n",
    "            #노이즈 제거하기\n",
    "            if ((w < 100) or (w > 500)):\n",
    "                continue\n",
    "        \n",
    "            #추출한 영역 저장하기\n",
    "            imgex = frame[y:y + h, x: x + w]\n",
    "            outfile = save_dir + \"/\" + str(no) + \".jpg\"\n",
    "            cv2.imwrite(outfile, imgex)\n",
    "            no = no + 1\n",
    "        \n",
    "    img_last = img_b\n",
    "\n",
    "cap.release()\n",
    "print(\"ok\")"
   ]
  }
 ],
 "metadata": {
  "kernelspec": {
   "display_name": "Python 3",
   "language": "python",
   "name": "python3"
  },
  "language_info": {
   "codemirror_mode": {
    "name": "ipython",
    "version": 3
   },
   "file_extension": ".py",
   "mimetype": "text/x-python",
   "name": "python",
   "nbconvert_exporter": "python",
   "pygments_lexer": "ipython3",
   "version": "3.7.7"
  }
 },
 "nbformat": 4,
 "nbformat_minor": 4
}
