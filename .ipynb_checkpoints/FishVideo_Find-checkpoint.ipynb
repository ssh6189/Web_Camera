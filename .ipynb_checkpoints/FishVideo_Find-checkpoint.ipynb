{
 "cells": [
  {
   "cell_type": "code",
   "execution_count": 1,
   "metadata": {},
   "outputs": [
    {
     "name": "stdout",
     "output_type": "stream",
     "text": [
      "ok 65 / 1987\n"
     ]
    }
   ],
   "source": [
    "import cv2, os, copy\n",
    "from sklearn.externals import joblib\n",
    "\n",
    "#학습한 데이터 읽어 들이기\n",
    "clf = joblib.load(\"fish.pkl\")\n",
    "output_dir= \"./bestshot\"\n",
    "\n",
    "#이전 프레임을 저장할 변수\n",
    "img_last = None\n",
    "\n",
    "#이미지로 출력할 기준이 되는 물고기 수\n",
    "fish_th = 3 \n",
    "count = 0\n",
    "frame_count = 0\n",
    "if not os.path.isdir(output_dir):\n",
    "    os.mkdir(output_dir)\n",
    "    \n",
    "#동영상 파일 읽어 들이기\n",
    "cap = cv2.VideoCapture(\"fish.mp4\")\n",
    "\n",
    "while True:\n",
    "    #이미지 추출하기\n",
    "    is_ok, frame = cap.read()\n",
    "    if not is_ok:\n",
    "        break\n",
    "        \n",
    "    frame = cv2.resize(frame, (640, 360))\n",
    "    frame2 = copy.copy(frame)\n",
    "    frame_count = frame_count + 1\n",
    "    \n",
    "    #이전 프레임과 비교를 위해 흑백으로 변환하기\n",
    "    gray = cv2.cvtColor(frame, cv2.COLOR_BGR2GRAY)\n",
    "    gray = cv2.GaussianBlur(gray, (15, 15), 0)\n",
    "    img_b = cv2.threshold(gray, 127, 255, cv2.THRESH_BINARY)[1]\n",
    "    \n",
    "    if not img_last is None:\n",
    "        #차이 추출하기\n",
    "        frame_diff = cv2.absdiff(img_last, img_b)\n",
    "        cnts = cv2.findContours(frame_diff, cv2.RETR_EXTERNAL, cv2.CHAIN_APPROX_SIMPLE)[1]\n",
    "        \n",
    "        #차이가 있는 부분에 물고기가 있는지 확인하기\n",
    "        fish_count= 0\n",
    "    \n",
    "        for pt in cnts:\n",
    "            x, y, w, h = cv2.boundingRect(pt)\n",
    "            #노이즈 제거\n",
    "            if ((w < 100) or (w > 500)):\n",
    "                continue\n",
    "                \n",
    "            #추출한 영역에 물고기가 있는지 확인하기\n",
    "            \n",
    "            imgex = frame[y:y + h, x:x + w]\n",
    "            imagex = cv2.resize(imgex, (64, 32))\n",
    "            image_data = imagex.reshape(-1, )\n",
    "            \n",
    "            pred_y = clf.predict([image_data])\n",
    "            \n",
    "            if (pred_y[0] == 1):\n",
    "                fish_count = fish_count + 1\n",
    "                cv2.rectangle(frame2, (x, y), (x + w, y + h), (0, 255, 0), 2)\n",
    "            \n",
    "        #물고기가 많이 있는지 확인하기\n",
    "        if (fish_count > fish_th):\n",
    "            fname = output_dir + \"/fish\" + str(count) + \".jpg\"\n",
    "            cv2.imwrite(fname, frame)\n",
    "            count = count + 1\n",
    "                \n",
    "    cv2.imshow('FISH!', frame2)\n",
    "        \n",
    "    if(cv2.waitKey(1) == 13):\n",
    "        break\n",
    "    img_last =img_b\n",
    "        \n",
    "cap.release()\n",
    "cv2.destroyAllWindows()\n",
    "print(\"ok\", count, \"/\", frame_count)"
   ]
  }
 ],
 "metadata": {
  "kernelspec": {
   "display_name": "Python 3",
   "language": "python",
   "name": "python3"
  },
  "language_info": {
   "codemirror_mode": {
    "name": "ipython",
    "version": 3
   },
   "file_extension": ".py",
   "mimetype": "text/x-python",
   "name": "python",
   "nbconvert_exporter": "python",
   "pygments_lexer": "ipython3",
   "version": "3.7.7"
  }
 },
 "nbformat": 4,
 "nbformat_minor": 4
}
