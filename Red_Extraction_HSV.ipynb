{
 "cells": [
  {
   "cell_type": "code",
   "execution_count": 1,
   "metadata": {},
   "outputs": [],
   "source": [
    "import cv2\n",
    "import numpy as np\n",
    "\n",
    "#웹 카메라로부터 입력받기\n",
    "cap = cv2.VideoCapture(0)\n",
    "while True:\n",
    "    #이미지 추출하기\n",
    "    _, frame = cap.read()\n",
    "    \n",
    "    #이미지 축소하기\n",
    "    frame = cv2.resize(frame, (500, 300))\n",
    "    \n",
    "    #색공간을 HSV로 변환하기\n",
    "    hsv = cv2.cvtColor(frame, cv2.COLOR_BGR2HSV_FULL)\n",
    "    \n",
    "    #HSV 분할하기\n",
    "    h = hsv[:, :, 0]\n",
    "    s = hsv[:, :, 1]\n",
    "    v = hsv[:, :, 2]\n",
    "    \n",
    "    #붉은색을 가진 요소만 출력하기\n",
    "    img = np.zeros(h.shape, dtype=np.uint8)\n",
    "    img[((h < 50) | (h > 200)) & (s > 100)] = 255\n",
    "    \n",
    "    #윈도우 이미지 출력하기\n",
    "    cv2.imshow('RED Camera', img)\n",
    "    \n",
    "    if (cv2.waitKey(1) == 13):\n",
    "        break\n",
    "    \n",
    "#카메라 해제하기    \n",
    "cap.release()\n",
    "\n",
    "#윈도우 제거하기\n",
    "cv2.destroyAllWindows()"
   ]
  }
 ],
 "metadata": {
  "kernelspec": {
   "display_name": "Python 3",
   "language": "python",
   "name": "python3"
  },
  "language_info": {
   "codemirror_mode": {
    "name": "ipython",
    "version": 3
   },
   "file_extension": ".py",
   "mimetype": "text/x-python",
   "name": "python",
   "nbconvert_exporter": "python",
   "pygments_lexer": "ipython3",
   "version": "3.7.7"
  }
 },
 "nbformat": 4,
 "nbformat_minor": 4
}
