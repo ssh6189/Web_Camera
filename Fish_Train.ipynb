{
 "cells": [
  {
   "cell_type": "code",
   "execution_count": 1,
   "metadata": {},
   "outputs": [
    {
     "name": "stdout",
     "output_type": "stream",
     "text": [
      "0.9672131147540983\n"
     ]
    },
    {
     "data": {
      "text/plain": [
       "['fish.pkl']"
      ]
     },
     "execution_count": 1,
     "metadata": {},
     "output_type": "execute_result"
    }
   ],
   "source": [
    "import cv2\n",
    "import os, glob\n",
    "from sklearn.model_selection import train_test_split\n",
    "from sklearn import datasets, metrics\n",
    "from sklearn.ensemble import RandomForestClassifier\n",
    "from sklearn.metrics import accuracy_score\n",
    "from sklearn.externals import joblib\n",
    "\n",
    "#이미지 학습 크기와 경로 지정하기\n",
    "image_size = (64, 32)\n",
    "path = os.path.dirname(os.path.abspath(\"__file__\"))\n",
    "path_fish = path + '/fish'\n",
    "path_nofish = path + '/nofish'\n",
    "\n",
    "#이미지 데이터\n",
    "x = []\n",
    "\n",
    "#레이블 데이터\n",
    "y = []\n",
    "\n",
    "#이미지 데이터를 읽어 들이고 배열에 넣기\n",
    "def read_dir(path, label):\n",
    "    files = glob.glob(path + \"/*.jpg\")\n",
    "    for f in files:\n",
    "        img = cv2.imread(f)\n",
    "        img = cv2.resize(img, image_size)\n",
    "        img_data = img.reshape(-1 ) #1차원으로 전개하기\n",
    "        x.append(img_data)\n",
    "        y.append(label)\n",
    "        \n",
    "#이미지 데이터 읽어 들이기\n",
    "read_dir(path_nofish, 0)\n",
    "read_dir(path_fish, 1)\n",
    "\n",
    "#데이터를 학습 전용과 테스트 전용으로 분리하기\n",
    "x_train, x_test, y_train, y_test = train_test_split(x, y, test_size = 0.2)\n",
    "\n",
    "#데이터 학습하기\n",
    "clf = RandomForestClassifier()\n",
    "clf.fit(x_train, y_train)\n",
    "\n",
    "#정답률 확인하기\n",
    "y_pred = clf.predict(x_test)\n",
    "print(accuracy_score(y_test, y_pred))\n",
    "\n",
    "#데이터 저장하기\n",
    "joblib.dump(clf, 'fish.pkl')"
   ]
  }
 ],
 "metadata": {
  "kernelspec": {
   "display_name": "Python 3",
   "language": "python",
   "name": "python3"
  },
  "language_info": {
   "codemirror_mode": {
    "name": "ipython",
    "version": 3
   },
   "file_extension": ".py",
   "mimetype": "text/x-python",
   "name": "python",
   "nbconvert_exporter": "python",
   "pygments_lexer": "ipython3",
   "version": "3.7.7"
  }
 },
 "nbformat": 4,
 "nbformat_minor": 4
}
