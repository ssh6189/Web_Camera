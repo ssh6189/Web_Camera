{
 "cells": [
  {
   "cell_type": "code",
   "execution_count": 1,
   "metadata": {},
   "outputs": [],
   "source": [
    "import cv2\n",
    "import numpy as np\n",
    "\n",
    "#웹 카메라로부터 입력받기\n",
    "cap = cv2.VideoCapture(0)\n",
    "while True:\n",
    "    #이미지 추출하기\n",
    "    _, frame = cap.read()\n",
    "    \n",
    "    #이미지 축소하기\n",
    "    frame = cv2.resize(frame, (500, 300))\n",
    "    \n",
    "    #파란색과 녹색부분 제거하기\n",
    "    frame[:, :, 0] = 0 #파란색을 0으로\n",
    "    frame[:, :, 1] = 0 #초록색을 0으로\n",
    "    \n",
    "    #윈도우에 이미지 출력하기\n",
    "    cv2.imshow('RED Camera', frame)\n",
    "    \n",
    "    #Enter 키가 입력되면 반복 종료하기\n",
    "    if (cv2.waitKey(1) == 13):\n",
    "        break\n",
    "        \n",
    "#카메라 해제하기       \n",
    "cap.release()\n",
    "\n",
    "#윈도우 제거하기\n",
    "cv2.destroyAllWindows()"
   ]
  }
 ],
 "metadata": {
  "kernelspec": {
   "display_name": "Python 3",
   "language": "python",
   "name": "python3"
  },
  "language_info": {
   "codemirror_mode": {
    "name": "ipython",
    "version": 3
   },
   "file_extension": ".py",
   "mimetype": "text/x-python",
   "name": "python",
   "nbconvert_exporter": "python",
   "pygments_lexer": "ipython3",
   "version": "3.7.7"
  }
 },
 "nbformat": 4,
 "nbformat_minor": 4
}
