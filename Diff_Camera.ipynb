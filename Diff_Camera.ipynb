{
 "cells": [
  {
   "cell_type": "code",
   "execution_count": 1,
   "metadata": {},
   "outputs": [],
   "source": [
    "import cv2\n",
    "\n",
    "cap = cv2.VideoCapture(0)\n",
    "\n",
    "#이전 프레임을 저장해둘 변수\n",
    "img_last = None\n",
    "\n",
    "green = (0, 255, 0)\n",
    "\n",
    "while True:\n",
    "    #이미지 추출하기\n",
    "    _, frame = cap.read()\n",
    "    frame = cv2.resize(frame, (500, 300))\n",
    "    \n",
    "    #흑백 이미지로 변환하기\n",
    "    gray = cv2.cvtColor(frame, cv2.COLOR_BGR2GRAY)\n",
    "    gray = cv2.GaussianBlur(gray, (9, 9), 0)\n",
    "    img_b = cv2.threshold(gray, 100, 255, cv2.THRESH_BINARY)[1]\n",
    "    \n",
    "    #차이 확인하기\n",
    "    if (img_last is None):\n",
    "        img_last = img_b\n",
    "        continue\n",
    "        \n",
    "    frame_diff = cv2.absdiff(img_last,img_b)\n",
    "    \n",
    "    cnts = cv2.findContours(frame_diff, cv2.RETR_EXTERNAL, cv2.CHAIN_APPROX_SIMPLE)[1]\n",
    "    \n",
    "    #차이가 있는 부분 출력하기\n",
    "    for pt in cnts:\n",
    "        x, y, w, h = cv2.boundingRect(pt)\n",
    "        #작은 변경 무시하기\n",
    "        if (w < 30):\n",
    "            continue\n",
    "        \n",
    "        cv2.rectangle(frame, (x, y),(x + w, y + h), green, 2)\n",
    "        \n",
    "    #프레임을 변수에 저장해두기\n",
    "    img_last = img_b\n",
    "    \n",
    "    #화면에 출력하기\n",
    "    cv2.imshow(\"Diff Camera\", frame)\n",
    "    cv2.imshow(\"diff data\", frame_diff)\n",
    "    \n",
    "    if (cv2.waitKey(1) == 13):\n",
    "        break\n",
    "        \n",
    "cap.release()\n",
    "cv2.destroyAllWindows()"
   ]
  }
 ],
 "metadata": {
  "kernelspec": {
   "display_name": "Python 3",
   "language": "python",
   "name": "python3"
  },
  "language_info": {
   "codemirror_mode": {
    "name": "ipython",
    "version": 3
   },
   "file_extension": ".py",
   "mimetype": "text/x-python",
   "name": "python",
   "nbconvert_exporter": "python",
   "pygments_lexer": "ipython3",
   "version": "3.7.7"
  }
 },
 "nbformat": 4,
 "nbformat_minor": 4
}
